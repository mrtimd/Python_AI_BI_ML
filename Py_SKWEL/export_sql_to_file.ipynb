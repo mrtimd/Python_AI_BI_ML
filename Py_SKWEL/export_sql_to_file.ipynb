{
 "cells": [
  {
   "cell_type": "code",
   "execution_count": null,
   "metadata": {
    "vscode": {
     "languageId": "plaintext"
    }
   },
   "outputs": [],
   "source": [
    "https://code.visualstudio.com/docs/datascience/jupyter-notebooks"
   ]
  },
  {
   "cell_type": "markdown",
   "metadata": {},
   "source": [
    "import pyodbc \n",
    "\n",
    "import pandas as pd \n",
    "\n",
    "print(df.head()) "
   ]
  },
  {
   "cell_type": "code",
   "execution_count": null,
   "metadata": {
    "vscode": {
     "languageId": "plaintext"
    }
   },
   "outputs": [],
   "source": [
    "# Define the connection parameters \n",
    "\n",
    "server = 'your_sql_server'  # e.g., 'localhost', 'your_sql_server_name' \n",
    "\n",
    "database = 'your_database'  # e.g., 'my_database' \n",
    "\n",
    "username = 'your_username'  # Use your SQL username \n",
    "\n",
    "password = 'your_password'  # Use your SQL password "
   ]
  },
  {
   "cell_type": "code",
   "execution_count": null,
   "metadata": {
    "vscode": {
     "languageId": "plaintext"
    }
   },
   "outputs": [],
   "source": [
    "# Connection string \n",
    "\n",
    "conn_str = f'DRIVER={{ODBC Driver 17 for SQL Server}};SERVER={server};DATABASE={database};UID={username};PWD={password}' "
   ]
  },
  {
   "cell_type": "code",
   "execution_count": null,
   "metadata": {
    "vscode": {
     "languageId": "plaintext"
    }
   },
   "outputs": [],
   "source": [
    "# Establish a connection to SQL Server \n",
    "\n",
    "connection = pyodbc.connect(conn_str) "
   ]
  },
  {
   "cell_type": "code",
   "execution_count": null,
   "metadata": {
    "vscode": {
     "languageId": "plaintext"
    }
   },
   "outputs": [],
   "source": [
    "# Define your SQL query \n",
    "\n",
    "sql_query = 'SELECT * FROM your_table'  # Replace with your query "
   ]
  },
  {
   "cell_type": "code",
   "execution_count": null,
   "metadata": {
    "vscode": {
     "languageId": "plaintext"
    }
   },
   "outputs": [],
   "source": [
    "# Execute the query and fetch the data into a pandas DataFrame \n",
    "\n",
    "df = pd.read_sql(sql_query, connection) "
   ]
  },
  {
   "cell_type": "code",
   "execution_count": null,
   "metadata": {
    "vscode": {
     "languageId": "plaintext"
    }
   },
   "outputs": [],
   "source": [
    "# Optionally, you can save the DataFrame to a CSV or Parquet file \n",
    "\n",
    "df.to_csv('output.csv', index=False)  # Save as CSV \n",
    "\n",
    "df.to_parquet('output.parquet', index=False)  # Save as Parquet (requires pyarrow or fastparquet) "
   ]
  },
  {
   "cell_type": "code",
   "execution_count": null,
   "metadata": {
    "vscode": {
     "languageId": "plaintext"
    }
   },
   "outputs": [],
   "source": [
    "# Close the connection \n",
    "\n",
    "connection.close() "
   ]
  },
  {
   "cell_type": "code",
   "execution_count": null,
   "metadata": {
    "vscode": {
     "languageId": "plaintext"
    }
   },
   "outputs": [],
   "source": [
    "# Print the data (optional) \n",
    "\n",
    "print(df.head()) "
   ]
  }
 ],
 "metadata": {
  "language_info": {
   "name": "python"
  }
 },
 "nbformat": 4,
 "nbformat_minor": 2
}
